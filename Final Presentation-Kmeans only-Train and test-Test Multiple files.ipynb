{
 "cells": [
  {
   "cell_type": "code",
   "execution_count": 1,
   "id": "4d68784b",
   "metadata": {},
   "outputs": [],
   "source": [
    "import pandas as pd\n",
    "import math\n",
    "from scipy.stats import skew, kurtosis\n",
    "from statsmodels.tsa import stattools\n",
    "import csv\n",
    "import numpy as np\n",
    "import glob\n",
    "import matplotlib.pyplot as plt\n",
    "import os"
   ]
  },
  {
   "cell_type": "code",
   "execution_count": 2,
   "id": "222c69fe",
   "metadata": {},
   "outputs": [],
   "source": [
    "path = r'C:/Users/aparajitas/OneDrive - Adobe/Documents/Aparajita_P/Chetan/User Identification From Walking Activity/User Identification From Walking Activity' # use your path\n",
    "all_files = glob.glob(path + \"/*.csv\")\n",
    "\n",
    "li = []\n",
    "\n",
    "for filename in all_files:\n",
    "    df = pd.read_csv(filename, index_col=None, header=0)\n",
    "    \n",
    "    for x in ['X']:\n",
    "        q75,q25 = np.percentile(df.loc[:,x],[75,25])\n",
    "        intr_qr = q75-q25\n",
    " \n",
    "        max = q75+(1.5*intr_qr)\n",
    "        min = q25-(1.5*intr_qr)\n",
    " \n",
    "        df.loc[df[x] < min,x] = np.nan\n",
    "        df.loc[df[x] > max,x] = np.nan\n",
    "\n",
    "    for y in ['Y']:\n",
    "        q75,q25 = np.percentile(df.loc[:,y],[75,25])\n",
    "        intr_qr = q75-q25\n",
    " \n",
    "        max = q75+(1.5*intr_qr)\n",
    "        min = q25-(1.5*intr_qr)\n",
    " \n",
    "        df.loc[df[y] < min,y] = np.nan\n",
    "        df.loc[df[y] > max,y] = np.nan\n",
    "        \n",
    "    for z in ['Z']:\n",
    "        q75,q25 = np.percentile(df.loc[:,z],[75,25])\n",
    "        intr_qr = q75-q25\n",
    " \n",
    "        max = q75+(1.5*intr_qr)\n",
    "        min = q25-(1.5*intr_qr)\n",
    " \n",
    "        df.loc[df[z] < min,z] = np.nan\n",
    "        df.loc[df[z] > max,z] = np.nan\n",
    "        df['Z'] = df['Z'].abs()\n",
    "           \n",
    "    df = df.dropna(axis = 0)\n",
    "    \n",
    "    df[\"vector\"] = df[\"X\"].pow(2) + df[\"Y\"].pow(2) + df[\"Z\"].pow(2) \n",
    "    df[\"vector\"] = df[\"vector\"].pow(1/2)\n",
    "    \n",
    "    df=df.drop(['t','X','Y'], axis = 1)\n",
    "    \n",
    "    li.append(df)\n",
    "\n",
    "frame = pd.concat(li, axis=0, ignore_index=True)\n",
    "frame_gmm = pd.concat(li, axis=0, ignore_index=True)\n",
    "frame4 = pd.concat(li, axis=0, ignore_index=True)"
   ]
  },
  {
   "cell_type": "code",
   "execution_count": 3,
   "id": "3f885eaf",
   "metadata": {},
   "outputs": [
    {
     "data": {
      "text/plain": [
       "Z         0\n",
       "vector    0\n",
       "dtype: int64"
      ]
     },
     "execution_count": 3,
     "metadata": {},
     "output_type": "execute_result"
    }
   ],
   "source": [
    "frame.isnull().sum()"
   ]
  },
  {
   "cell_type": "code",
   "execution_count": 4,
   "id": "3ae7b010",
   "metadata": {},
   "outputs": [
    {
     "data": {
      "text/plain": [
       "(99637, 2)"
      ]
     },
     "execution_count": 4,
     "metadata": {},
     "output_type": "execute_result"
    }
   ],
   "source": [
    "frame.shape"
   ]
  },
  {
   "cell_type": "code",
   "execution_count": 5,
   "id": "7e65077b",
   "metadata": {},
   "outputs": [
    {
     "data": {
      "text/html": [
       "<div>\n",
       "<style scoped>\n",
       "    .dataframe tbody tr th:only-of-type {\n",
       "        vertical-align: middle;\n",
       "    }\n",
       "\n",
       "    .dataframe tbody tr th {\n",
       "        vertical-align: top;\n",
       "    }\n",
       "\n",
       "    .dataframe thead th {\n",
       "        text-align: right;\n",
       "    }\n",
       "</style>\n",
       "<table border=\"1\" class=\"dataframe\">\n",
       "  <thead>\n",
       "    <tr style=\"text-align: right;\">\n",
       "      <th></th>\n",
       "      <th>Z</th>\n",
       "      <th>vector</th>\n",
       "    </tr>\n",
       "  </thead>\n",
       "  <tbody>\n",
       "    <tr>\n",
       "      <th>0</th>\n",
       "      <td>2.9148</td>\n",
       "      <td>8.213224</td>\n",
       "    </tr>\n",
       "    <tr>\n",
       "      <th>1</th>\n",
       "      <td>2.5334</td>\n",
       "      <td>11.903599</td>\n",
       "    </tr>\n",
       "    <tr>\n",
       "      <th>2</th>\n",
       "      <td>2.5334</td>\n",
       "      <td>10.884842</td>\n",
       "    </tr>\n",
       "    <tr>\n",
       "      <th>3</th>\n",
       "      <td>2.7241</td>\n",
       "      <td>10.396885</td>\n",
       "    </tr>\n",
       "    <tr>\n",
       "      <th>4</th>\n",
       "      <td>2.7922</td>\n",
       "      <td>9.998056</td>\n",
       "    </tr>\n",
       "  </tbody>\n",
       "</table>\n",
       "</div>"
      ],
      "text/plain": [
       "        Z     vector\n",
       "0  2.9148   8.213224\n",
       "1  2.5334  11.903599\n",
       "2  2.5334  10.884842\n",
       "3  2.7241  10.396885\n",
       "4  2.7922   9.998056"
      ]
     },
     "execution_count": 5,
     "metadata": {},
     "output_type": "execute_result"
    }
   ],
   "source": [
    "frame.head()"
   ]
  },
  {
   "cell_type": "code",
   "execution_count": 6,
   "id": "722ec2a5",
   "metadata": {},
   "outputs": [],
   "source": [
    "from sklearn.cluster import KMeans\n",
    "from sklearn.preprocessing import StandardScaler"
   ]
  },
  {
   "cell_type": "code",
   "execution_count": 7,
   "id": "96ed557a",
   "metadata": {},
   "outputs": [
    {
     "data": {
      "image/png": "[encoded data removed]",
      "text/plain": [
       "<Figure size 576x360 with 1 Axes>"
      ]
     },
     "metadata": {
      "needs_background": "light"
     },
     "output_type": "display_data"
    }
   ],
   "source": [
    "scaler = StandardScaler()\n",
    "Data = scaler.fit_transform(frame)\n",
    "#check the optimal k value\n",
    "ks = range(1, 10)\n",
    "inertias = []\n",
    "\n",
    "for k in ks:\n",
    "    model = KMeans(n_clusters=k)\n",
    "    model.fit(Data)\n",
    "    inertias.append(model.inertia_)\n",
    "\n",
    "plt.figure(figsize=(8,5))\n",
    "plt.style.use('bmh')\n",
    "plt.plot(ks, inertias, '-o')\n",
    "plt.xlabel('Number of clusters, k')\n",
    "plt.ylabel('Inertia')\n",
    "plt.xticks(ks)\n",
    "plt.show()"
   ]
  },
  {
   "cell_type": "code",
   "execution_count": 8,
   "id": "0237badc",
   "metadata": {},
   "outputs": [],
   "source": [
    "frame_kmeans=frame\n",
    "\n",
    "from sklearn.cluster import KMeans\n",
    "import numpy as np\n",
    "# k means\n",
    "kmeans = KMeans(n_clusters=3, random_state=0)\n",
    "frame_kmeans['cluster'] = kmeans.fit_predict(frame_kmeans[['Z','vector']])\n",
    "# get centroids\n",
    "centroids = kmeans.cluster_centers_\n",
    "cen_x = [i[0] for i in centroids] \n",
    "cen_y = [i[1] for i in centroids]\n",
    "## add to df\n",
    "frame_kmeans['cen_x'] = frame_kmeans.cluster.map({0:cen_x[0], 1:cen_x[1], 2:cen_x[2]})\n",
    "frame_kmeans['cen_y'] = frame_kmeans.cluster.map({0:cen_y[0], 1:cen_y[1], 2:cen_y[2]})\n",
    "# define and map colors\n",
    "colors = ['#DF2020', '#81DF20', '#2095DF', '#ff007f']\n",
    "frame_kmeans['c'] = frame_kmeans.cluster.map({0:colors[0], 1:colors[1], 2:colors[2]})"
   ]
  },
  {
   "cell_type": "code",
   "execution_count": 9,
   "id": "0e40810a",
   "metadata": {},
   "outputs": [
    {
     "data": {
      "text/plain": [
       "<matplotlib.collections.PathCollection at 0x258801c7460>"
      ]
     },
     "execution_count": 9,
     "metadata": {},
     "output_type": "execute_result"
    },
    {
     "data": {
      "image/png": "[encoded data removed]",
      "text/plain": [
       "<Figure size 432x288 with 1 Axes>"
      ]
     },
     "metadata": {
      "needs_background": "light"
     },
     "output_type": "display_data"
    }
   ],
   "source": [
    "import matplotlib.pyplot as plt\n",
    "plt.scatter(frame_kmeans.Z, frame_kmeans.vector, c=frame_kmeans.c, alpha = 0.6, s=10)"
   ]
  },
  {
   "cell_type": "code",
   "execution_count": 10,
   "id": "8462bbbd",
   "metadata": {},
   "outputs": [
    {
     "data": {
      "text/plain": [
       "299583.56999139366"
      ]
     },
     "execution_count": 10,
     "metadata": {},
     "output_type": "execute_result"
    }
   ],
   "source": [
    "kmeans.inertia_"
   ]
  },
  {
   "cell_type": "code",
   "execution_count": 11,
   "id": "bc4c3d50",
   "metadata": {},
   "outputs": [
    {
     "data": {
      "text/plain": [
       "array([[ 1.73275138, 13.45372439],\n",
       "       [ 0.97230483,  6.84500103],\n",
       "       [ 1.86631204,  9.76751722]])"
      ]
     },
     "execution_count": 11,
     "metadata": {},
     "output_type": "execute_result"
    }
   ],
   "source": [
    "kmeans.cluster_centers_"
   ]
  },
  {
   "cell_type": "code",
   "execution_count": 13,
   "id": "d8d407e4",
   "metadata": {},
   "outputs": [
    {
     "data": {
      "text/plain": [
       "9"
      ]
     },
     "execution_count": 13,
     "metadata": {},
     "output_type": "execute_result"
    }
   ],
   "source": [
    "kmeans.n_iter_"
   ]
  },
  {
   "cell_type": "code",
   "execution_count": 14,
   "id": "89c170d5",
   "metadata": {},
   "outputs": [
    {
     "data": {
      "text/plain": [
       "array([2, 0, 2, ..., 1, 1, 1])"
      ]
     },
     "execution_count": 14,
     "metadata": {},
     "output_type": "execute_result"
    }
   ],
   "source": [
    "kmeans.labels_"
   ]
  },
  {
   "cell_type": "code",
   "execution_count": 15,
   "id": "f3356f1a",
   "metadata": {},
   "outputs": [],
   "source": [
    "test = pd.read_csv(\"C:/Users/aparajitas/Downloads/dataset2.csv\")"
   ]
  },
  {
   "cell_type": "code",
   "execution_count": 16,
   "id": "c8bfbbbe",
   "metadata": {},
   "outputs": [],
   "source": [
    "df1 = test.head()"
   ]
  },
  {
   "cell_type": "code",
   "execution_count": 17,
   "id": "acb131c7",
   "metadata": {},
   "outputs": [
    {
     "data": {
      "text/plain": [
       "<bound method NDFrame.describe of             date                   t username   activity       Z       X  \\\n",
       "0      1/30/2022  13:51:15:847724020   chetan  slow walk  0.2650 -0.7814   \n",
       "1      1/30/2022  13:51:16:246945023   chetan  slow walk  0.6722 -1.1233   \n",
       "2      1/30/2022  13:51:16:446233987   chetan  slow walk  0.4399 -1.4817   \n",
       "3      1/30/2022  13:51:16:646117985   chetan  slow walk  0.3031 -0.8125   \n",
       "4      1/30/2022  13:51:16:846738994   chetan  slow walk  0.4814 -0.9312   \n",
       "...          ...                 ...      ...        ...     ...     ...   \n",
       "38289   2/9/2022   20:9:15:317911028   chetan  slow walk  0.3084 -0.8376   \n",
       "38290   2/9/2022   20:9:15:517889022   chetan  slow walk  0.4977 -1.0027   \n",
       "38291   2/9/2022   20:9:15:717828989   chetan  slow walk  0.4587 -1.1780   \n",
       "38292   2/9/2022   20:9:15:917932987   chetan  slow walk  0.2590 -0.8582   \n",
       "38293   2/9/2022   20:9:16:117410004   chetan  slow walk  0.3140 -0.8008   \n",
       "\n",
       "            Y    vector  \n",
       "0     -0.0076  0.825148  \n",
       "1     -0.2344  1.329887  \n",
       "2      0.0722  1.547307  \n",
       "3      0.0888  0.871729  \n",
       "4      0.0359  1.048889  \n",
       "...       ...       ...  \n",
       "38289 -0.1327  0.902382  \n",
       "38290 -0.4397  1.202684  \n",
       "38291 -0.2827  1.295380  \n",
       "38292 -0.0759  0.899638  \n",
       "38293 -0.0911  0.864972  \n",
       "\n",
       "[38294 rows x 8 columns]>"
      ]
     },
     "execution_count": 17,
     "metadata": {},
     "output_type": "execute_result"
    }
   ],
   "source": [
    "test.describe"
   ]
  },
  {
   "cell_type": "code",
   "execution_count": 18,
   "id": "49a0cadb",
   "metadata": {},
   "outputs": [
    {
     "data": {
      "text/html": [
       "<div>\n",
       "<style scoped>\n",
       "    .dataframe tbody tr th:only-of-type {\n",
       "        vertical-align: middle;\n",
       "    }\n",
       "\n",
       "    .dataframe tbody tr th {\n",
       "        vertical-align: top;\n",
       "    }\n",
       "\n",
       "    .dataframe thead th {\n",
       "        text-align: right;\n",
       "    }\n",
       "</style>\n",
       "<table border=\"1\" class=\"dataframe\">\n",
       "  <thead>\n",
       "    <tr style=\"text-align: right;\">\n",
       "      <th></th>\n",
       "      <th>date</th>\n",
       "      <th>t</th>\n",
       "      <th>username</th>\n",
       "      <th>activity</th>\n",
       "      <th>Z</th>\n",
       "      <th>X</th>\n",
       "      <th>Y</th>\n",
       "      <th>vector</th>\n",
       "    </tr>\n",
       "  </thead>\n",
       "  <tbody>\n",
       "    <tr>\n",
       "      <th>0</th>\n",
       "      <td>1/30/2022</td>\n",
       "      <td>13:51:15:847724020</td>\n",
       "      <td>chetan</td>\n",
       "      <td>slow walk</td>\n",
       "      <td>0.2650</td>\n",
       "      <td>-0.7814</td>\n",
       "      <td>-0.0076</td>\n",
       "      <td>0.825148</td>\n",
       "    </tr>\n",
       "    <tr>\n",
       "      <th>1</th>\n",
       "      <td>1/30/2022</td>\n",
       "      <td>13:51:16:246945023</td>\n",
       "      <td>chetan</td>\n",
       "      <td>slow walk</td>\n",
       "      <td>0.6722</td>\n",
       "      <td>-1.1233</td>\n",
       "      <td>-0.2344</td>\n",
       "      <td>1.329887</td>\n",
       "    </tr>\n",
       "    <tr>\n",
       "      <th>2</th>\n",
       "      <td>1/30/2022</td>\n",
       "      <td>13:51:16:446233987</td>\n",
       "      <td>chetan</td>\n",
       "      <td>slow walk</td>\n",
       "      <td>0.4399</td>\n",
       "      <td>-1.4817</td>\n",
       "      <td>0.0722</td>\n",
       "      <td>1.547307</td>\n",
       "    </tr>\n",
       "    <tr>\n",
       "      <th>3</th>\n",
       "      <td>1/30/2022</td>\n",
       "      <td>13:51:16:646117985</td>\n",
       "      <td>chetan</td>\n",
       "      <td>slow walk</td>\n",
       "      <td>0.3031</td>\n",
       "      <td>-0.8125</td>\n",
       "      <td>0.0888</td>\n",
       "      <td>0.871729</td>\n",
       "    </tr>\n",
       "    <tr>\n",
       "      <th>4</th>\n",
       "      <td>1/30/2022</td>\n",
       "      <td>13:51:16:846738994</td>\n",
       "      <td>chetan</td>\n",
       "      <td>slow walk</td>\n",
       "      <td>0.4814</td>\n",
       "      <td>-0.9312</td>\n",
       "      <td>0.0359</td>\n",
       "      <td>1.048889</td>\n",
       "    </tr>\n",
       "  </tbody>\n",
       "</table>\n",
       "</div>"
      ],
      "text/plain": [
       "        date                   t username   activity       Z       X       Y  \\\n",
       "0  1/30/2022  13:51:15:847724020   chetan  slow walk  0.2650 -0.7814 -0.0076   \n",
       "1  1/30/2022  13:51:16:246945023   chetan  slow walk  0.6722 -1.1233 -0.2344   \n",
       "2  1/30/2022  13:51:16:446233987   chetan  slow walk  0.4399 -1.4817  0.0722   \n",
       "3  1/30/2022  13:51:16:646117985   chetan  slow walk  0.3031 -0.8125  0.0888   \n",
       "4  1/30/2022  13:51:16:846738994   chetan  slow walk  0.4814 -0.9312  0.0359   \n",
       "\n",
       "     vector  \n",
       "0  0.825148  \n",
       "1  1.329887  \n",
       "2  1.547307  \n",
       "3  0.871729  \n",
       "4  1.048889  "
      ]
     },
     "execution_count": 18,
     "metadata": {},
     "output_type": "execute_result"
    }
   ],
   "source": [
    "df1"
   ]
  },
  {
   "cell_type": "code",
   "execution_count": 19,
   "id": "5eb88d5b",
   "metadata": {},
   "outputs": [],
   "source": [
    "df2 = df1.drop(['date','t','X','Y','username','activity'], axis = 1)"
   ]
  },
  {
   "cell_type": "code",
   "execution_count": 20,
   "id": "bf3510d4",
   "metadata": {},
   "outputs": [
    {
     "data": {
      "text/html": [
       "<div>\n",
       "<style scoped>\n",
       "    .dataframe tbody tr th:only-of-type {\n",
       "        vertical-align: middle;\n",
       "    }\n",
       "\n",
       "    .dataframe tbody tr th {\n",
       "        vertical-align: top;\n",
       "    }\n",
       "\n",
       "    .dataframe thead th {\n",
       "        text-align: right;\n",
       "    }\n",
       "</style>\n",
       "<table border=\"1\" class=\"dataframe\">\n",
       "  <thead>\n",
       "    <tr style=\"text-align: right;\">\n",
       "      <th></th>\n",
       "      <th>Z</th>\n",
       "      <th>vector</th>\n",
       "    </tr>\n",
       "  </thead>\n",
       "  <tbody>\n",
       "    <tr>\n",
       "      <th>0</th>\n",
       "      <td>0.2650</td>\n",
       "      <td>0.825148</td>\n",
       "    </tr>\n",
       "    <tr>\n",
       "      <th>1</th>\n",
       "      <td>0.6722</td>\n",
       "      <td>1.329887</td>\n",
       "    </tr>\n",
       "    <tr>\n",
       "      <th>2</th>\n",
       "      <td>0.4399</td>\n",
       "      <td>1.547307</td>\n",
       "    </tr>\n",
       "    <tr>\n",
       "      <th>3</th>\n",
       "      <td>0.3031</td>\n",
       "      <td>0.871729</td>\n",
       "    </tr>\n",
       "    <tr>\n",
       "      <th>4</th>\n",
       "      <td>0.4814</td>\n",
       "      <td>1.048889</td>\n",
       "    </tr>\n",
       "  </tbody>\n",
       "</table>\n",
       "</div>"
      ],
      "text/plain": [
       "        Z    vector\n",
       "0  0.2650  0.825148\n",
       "1  0.6722  1.329887\n",
       "2  0.4399  1.547307\n",
       "3  0.3031  0.871729\n",
       "4  0.4814  1.048889"
      ]
     },
     "execution_count": 20,
     "metadata": {},
     "output_type": "execute_result"
    }
   ],
   "source": [
    "df2"
   ]
  },
  {
   "cell_type": "code",
   "execution_count": 21,
   "id": "8e171b5b",
   "metadata": {},
   "outputs": [
    {
     "data": {
      "text/plain": [
       "array([[12.713585  ,  6.06126343,  9.08461188],\n",
       "       [12.1701358 ,  5.52327323,  8.52170813],\n",
       "       [11.97640321,  5.32437924,  8.34305119],\n",
       "       [12.66295832,  6.01064181,  9.03209176],\n",
       "       [12.46779132,  5.81686358,  8.82793627]])"
      ]
     },
     "execution_count": 21,
     "metadata": {},
     "output_type": "execute_result"
    }
   ],
   "source": [
    "kmeans.transform(df2)"
   ]
  },
  {
   "cell_type": "code",
   "execution_count": 22,
   "id": "7b04baa7",
   "metadata": {},
   "outputs": [
    {
     "data": {
      "text/plain": [
       "array([1, 1, 1, 1, 1])"
      ]
     },
     "execution_count": 22,
     "metadata": {},
     "output_type": "execute_result"
    }
   ],
   "source": [
    "kmeans.predict(df2)"
   ]
  },
  {
   "cell_type": "code",
   "execution_count": 23,
   "id": "cabb43cb",
   "metadata": {},
   "outputs": [],
   "source": [
    "df_fast = pd.read_csv(\"C:/Users/aparajitas/Downloads/dataset2fast.csv\")"
   ]
  },
  {
   "cell_type": "code",
   "execution_count": 24,
   "id": "35e5ad4c",
   "metadata": {},
   "outputs": [],
   "source": [
    "df_fast2 = df_fast.drop(['date','t','X','Y','username','activity'], axis = 1)"
   ]
  },
  {
   "cell_type": "code",
   "execution_count": 25,
   "id": "1798c0cf",
   "metadata": {},
   "outputs": [
    {
     "data": {
      "text/plain": [
       "<bound method NDFrame.describe of            Z    vector\n",
       "0     3.3880  3.394230\n",
       "1     2.1690  2.396770\n",
       "2     3.4887  3.651331\n",
       "3     2.6972  2.896714\n",
       "4     3.2452  3.350735\n",
       "...      ...       ...\n",
       "2653  2.1463  3.214162\n",
       "2654  2.3787  3.478125\n",
       "2655  2.2489  2.986729\n",
       "2656  2.5963  3.615108\n",
       "2657  2.2590  3.872905\n",
       "\n",
       "[2658 rows x 2 columns]>"
      ]
     },
     "execution_count": 25,
     "metadata": {},
     "output_type": "execute_result"
    }
   ],
   "source": [
    "df_fast2.head()\n",
    "df_fast2.describe"
   ]
  },
  {
   "cell_type": "code",
   "execution_count": 26,
   "id": "a965a670",
   "metadata": {},
   "outputs": [],
   "source": [
    "df_fast3=df_fast2.head()"
   ]
  },
  {
   "cell_type": "code",
   "execution_count": 27,
   "id": "d859f63a",
   "metadata": {},
   "outputs": [
    {
     "data": {
      "text/plain": [
       "array([1, 1, 1, 1, 1])"
      ]
     },
     "execution_count": 27,
     "metadata": {},
     "output_type": "execute_result"
    }
   ],
   "source": [
    "kmeans.predict(df_fast3)"
   ]
  },
  {
   "cell_type": "code",
   "execution_count": 28,
   "id": "94c163ba",
   "metadata": {},
   "outputs": [],
   "source": [
    "df_run = pd.read_csv(\"C:/Users/aparajitas/Downloads/dataset2run.csv\")"
   ]
  },
  {
   "cell_type": "code",
   "execution_count": 29,
   "id": "6d5aa8bd",
   "metadata": {},
   "outputs": [],
   "source": [
    "df_run2 = df_run.drop(['date','t','X','Y','username','activity'], axis = 1)"
   ]
  },
  {
   "cell_type": "code",
   "execution_count": 30,
   "id": "26869ce3",
   "metadata": {},
   "outputs": [
    {
     "data": {
      "text/plain": [
       "<bound method NDFrame.describe of           Z    vector\n",
       "0    4.0475  4.074634\n",
       "1    4.4313  4.610782\n",
       "2    4.0215  4.277629\n",
       "3    4.2238  4.257374\n",
       "4    4.2949  4.372995\n",
       "..      ...       ...\n",
       "196  4.3748  4.628126\n",
       "197  4.3217  4.616702\n",
       "198  4.0802  4.637597\n",
       "199  4.1400  4.782581\n",
       "200  4.2401  4.917740\n",
       "\n",
       "[201 rows x 2 columns]>"
      ]
     },
     "execution_count": 30,
     "metadata": {},
     "output_type": "execute_result"
    }
   ],
   "source": [
    "df_run2.head()\n",
    "df_run2.describe"
   ]
  },
  {
   "cell_type": "code",
   "execution_count": 31,
   "id": "af41cbe3",
   "metadata": {},
   "outputs": [],
   "source": [
    "df_run3=df_run2.head()"
   ]
  },
  {
   "cell_type": "code",
   "execution_count": 32,
   "id": "1ce0690a",
   "metadata": {},
   "outputs": [
    {
     "data": {
      "text/plain": [
       "array([1, 1, 1, 1, 1])"
      ]
     },
     "execution_count": 32,
     "metadata": {},
     "output_type": "execute_result"
    }
   ],
   "source": [
    "kmeans.predict(df_run3)"
   ]
  },
  {
   "cell_type": "code",
   "execution_count": 33,
   "id": "28af2327",
   "metadata": {},
   "outputs": [
    {
     "name": "stdout",
     "output_type": "stream",
     "text": [
      "[1 1 1 1 1 1 1 1 1 1 1 1 1 1 1 1 1 1 1 1 1 1 1 1 1 1 1 1 1 1 1 1 1 1 1 1 1\n",
      " 1 1 1 1 1 1 1 1 1 1 1 1 1 1 1 1 1 1 1 1 1 1 1 1 1 1 1 1 1 1 1 1 1 1 1 1 1\n",
      " 1 1 1 1 1 1 1 1 1 1 1 1 1 1 1 1 1 1 1 1 1 1 1 1 1 1 1 1 1 1 1 1 1 1 1 1 1\n",
      " 1 1 1 1 1 1 1 1 1 1 1 1 1 1 1 1 1 1 1 1 1 1 1 1 1 1 1 1 1 1 1 1 1 1 1 1 1\n",
      " 1 1 1 1 1 1 1 1 1 1 1 1 1 1 1 1 1 1 1 1 1 1 1 1 1 1 1 1 1 1 1 1 1 1 1 1 1\n",
      " 1 1 1 1 1 1 1 1 1 1 1 1 1 1 1 1]\n"
     ]
    }
   ],
   "source": [
    "print(kmeans.predict(df_run2))"
   ]
  },
  {
   "cell_type": "code",
   "execution_count": null,
   "id": "18f9d427",
   "metadata": {},
   "outputs": [],
   "source": []
  }
 ],
 "metadata": {
  "kernelspec": {
   "display_name": "Python 3 (ipykernel)",
   "language": "python",
   "name": "python3"
  },
  "language_info": {
   "codemirror_mode": {
    "name": "ipython",
    "version": 3
   },
   "file_extension": ".py",
   "mimetype": "text/x-python",
   "name": "python",
   "nbconvert_exporter": "python",
   "pygments_lexer": "ipython3",
   "version": "3.9.7"
  }
 },
 "nbformat": 4,
 "nbformat_minor": 5
}
