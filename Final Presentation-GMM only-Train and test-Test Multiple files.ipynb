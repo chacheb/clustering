{
 "cells": [
  {
   "cell_type": "code",
   "execution_count": 1,
   "id": "4d68784b",
   "metadata": {},
   "outputs": [],
   "source": [
    "import pandas as pd\n",
    "import math\n",
    "from scipy.stats import skew, kurtosis\n",
    "from statsmodels.tsa import stattools\n",
    "import csv\n",
    "import numpy as np\n",
    "import glob\n",
    "import matplotlib.pyplot as plt\n",
    "import os"
   ]
  },
  {
   "cell_type": "code",
   "execution_count": 2,
   "id": "8eae3ec4",
   "metadata": {},
   "outputs": [],
   "source": [
    "path = r'C:/Users/aparajitas/OneDrive - Adobe/Documents/Aparajita_P/Chetan/User Identification From Walking Activity/User Identification From Walking Activity' # use your path\n",
    "all_files = glob.glob(path + \"/*.csv\")\n",
    "\n",
    "li = []\n",
    "\n",
    "for filename in all_files:\n",
    "    df = pd.read_csv(filename, index_col=None, header=0)\n",
    "    \n",
    "    for x in ['X']:\n",
    "        q75,q25 = np.percentile(df.loc[:,x],[75,25])\n",
    "        intr_qr = q75-q25\n",
    " \n",
    "        max = q75+(1.5*intr_qr)\n",
    "        min = q25-(1.5*intr_qr)\n",
    " \n",
    "        df.loc[df[x] < min,x] = np.nan\n",
    "        df.loc[df[x] > max,x] = np.nan\n",
    "\n",
    "    for y in ['Y']:\n",
    "        q75,q25 = np.percentile(df.loc[:,y],[75,25])\n",
    "        intr_qr = q75-q25\n",
    " \n",
    "        max = q75+(1.5*intr_qr)\n",
    "        min = q25-(1.5*intr_qr)\n",
    " \n",
    "        df.loc[df[y] < min,y] = np.nan\n",
    "        df.loc[df[y] > max,y] = np.nan\n",
    "        \n",
    "    for z in ['Z']:\n",
    "        q75,q25 = np.percentile(df.loc[:,z],[75,25])\n",
    "        intr_qr = q75-q25\n",
    " \n",
    "        max = q75+(1.5*intr_qr)\n",
    "        min = q25-(1.5*intr_qr)\n",
    " \n",
    "        df.loc[df[z] < min,z] = np.nan\n",
    "        df.loc[df[z] > max,z] = np.nan\n",
    "        df['Z'] = df['Z'].abs()\n",
    "           \n",
    "    df = df.dropna(axis = 0)\n",
    "    \n",
    "    df[\"vector\"] = df[\"X\"].pow(2) + df[\"Y\"].pow(2) + df[\"Z\"].pow(2) \n",
    "    df[\"vector\"] = df[\"vector\"].pow(1/2)\n",
    "    \n",
    "    df=df.drop(['t','X','Y'], axis = 1)\n",
    "    \n",
    "    li.append(df)\n",
    "\n",
    "frame = pd.concat(li, axis=0, ignore_index=True)\n",
    "#frame_gmm = pd.concat(li, axis=0, ignore_index=True)\n",
    "#frame4 = pd.concat(li, axis=0, ignore_index=True)"
   ]
  },
  {
   "cell_type": "code",
   "execution_count": 3,
   "id": "3f885eaf",
   "metadata": {},
   "outputs": [
    {
     "data": {
      "text/plain": [
       "Z         0\n",
       "vector    0\n",
       "dtype: int64"
      ]
     },
     "execution_count": 3,
     "metadata": {},
     "output_type": "execute_result"
    }
   ],
   "source": [
    "frame.isnull().sum()"
   ]
  },
  {
   "cell_type": "code",
   "execution_count": 4,
   "id": "3ae7b010",
   "metadata": {},
   "outputs": [
    {
     "data": {
      "text/plain": [
       "(99637, 2)"
      ]
     },
     "execution_count": 4,
     "metadata": {},
     "output_type": "execute_result"
    }
   ],
   "source": [
    "frame.shape"
   ]
  },
  {
   "cell_type": "code",
   "execution_count": 5,
   "id": "7e65077b",
   "metadata": {},
   "outputs": [
    {
     "data": {
      "text/html": [
       "<div>\n",
       "<style scoped>\n",
       "    .dataframe tbody tr th:only-of-type {\n",
       "        vertical-align: middle;\n",
       "    }\n",
       "\n",
       "    .dataframe tbody tr th {\n",
       "        vertical-align: top;\n",
       "    }\n",
       "\n",
       "    .dataframe thead th {\n",
       "        text-align: right;\n",
       "    }\n",
       "</style>\n",
       "<table border=\"1\" class=\"dataframe\">\n",
       "  <thead>\n",
       "    <tr style=\"text-align: right;\">\n",
       "      <th></th>\n",
       "      <th>Z</th>\n",
       "      <th>vector</th>\n",
       "    </tr>\n",
       "  </thead>\n",
       "  <tbody>\n",
       "    <tr>\n",
       "      <th>0</th>\n",
       "      <td>2.9148</td>\n",
       "      <td>8.213224</td>\n",
       "    </tr>\n",
       "    <tr>\n",
       "      <th>1</th>\n",
       "      <td>2.5334</td>\n",
       "      <td>11.903599</td>\n",
       "    </tr>\n",
       "    <tr>\n",
       "      <th>2</th>\n",
       "      <td>2.5334</td>\n",
       "      <td>10.884842</td>\n",
       "    </tr>\n",
       "    <tr>\n",
       "      <th>3</th>\n",
       "      <td>2.7241</td>\n",
       "      <td>10.396885</td>\n",
       "    </tr>\n",
       "    <tr>\n",
       "      <th>4</th>\n",
       "      <td>2.7922</td>\n",
       "      <td>9.998056</td>\n",
       "    </tr>\n",
       "  </tbody>\n",
       "</table>\n",
       "</div>"
      ],
      "text/plain": [
       "        Z     vector\n",
       "0  2.9148   8.213224\n",
       "1  2.5334  11.903599\n",
       "2  2.5334  10.884842\n",
       "3  2.7241  10.396885\n",
       "4  2.7922   9.998056"
      ]
     },
     "execution_count": 5,
     "metadata": {},
     "output_type": "execute_result"
    }
   ],
   "source": [
    "frame.head()"
   ]
  },
  {
   "cell_type": "code",
   "execution_count": 6,
   "id": "722ec2a5",
   "metadata": {},
   "outputs": [],
   "source": [
    "from sklearn.cluster import KMeans\n",
    "from sklearn.preprocessing import StandardScaler"
   ]
  },
  {
   "cell_type": "code",
   "execution_count": 7,
   "id": "96ed557a",
   "metadata": {},
   "outputs": [
    {
     "data": {
      "image/png": "[encoded data removed]",
      "text/plain": [
       "<Figure size 576x360 with 1 Axes>"
      ]
     },
     "metadata": {
      "needs_background": "light"
     },
     "output_type": "display_data"
    }
   ],
   "source": [
    "scaler = StandardScaler()\n",
    "Data = scaler.fit_transform(frame)\n",
    "#check the optimal k value\n",
    "ks = range(1, 10)\n",
    "inertias = []\n",
    "\n",
    "for k in ks:\n",
    "    model = KMeans(n_clusters=k)\n",
    "    model.fit(Data)\n",
    "    inertias.append(model.inertia_)\n",
    "\n",
    "plt.figure(figsize=(8,5))\n",
    "plt.style.use('bmh')\n",
    "plt.plot(ks, inertias, '-o')\n",
    "plt.xlabel('Number of clusters, k')\n",
    "plt.ylabel('Inertia')\n",
    "plt.xticks(ks)\n",
    "plt.show()"
   ]
  },
  {
   "cell_type": "code",
   "execution_count": 10,
   "id": "d132118a",
   "metadata": {},
   "outputs": [
    {
     "data": {
      "text/plain": [
       "<bound method NDFrame.describe of             Z     vector\n",
       "0      2.9148   8.213223\n",
       "1      2.5334  11.903599\n",
       "2      2.5334  10.884842\n",
       "3      2.7241  10.396886\n",
       "4      2.7922   9.998055\n",
       "...       ...        ...\n",
       "99632  1.3757  11.768804\n",
       "99633  3.2553  10.147224\n",
       "99634  3.6775   7.525833\n",
       "99635  2.9148   7.592791\n",
       "99636  1.5255   6.948227\n",
       "\n",
       "[99637 rows x 2 columns]>"
      ]
     },
     "execution_count": 10,
     "metadata": {},
     "output_type": "execute_result"
    }
   ],
   "source": [
    "frame[\"Z\"] = pd.to_numeric(frame[\"Z\"], downcast=\"float\")\n",
    "frame[\"vector\"] = pd.to_numeric(frame[\"vector\"], downcast=\"float\")\n",
    "\n",
    "frame.head()\n",
    "frame.describe"
   ]
  },
  {
   "cell_type": "code",
   "execution_count": 12,
   "id": "15f93e4d",
   "metadata": {},
   "outputs": [
    {
     "data": {
      "image/png": "[encoded data removed]",
      "text/plain": [
       "<Figure size 432x288 with 1 Axes>"
      ]
     },
     "metadata": {
      "needs_background": "light"
     },
     "output_type": "display_data"
    }
   ],
   "source": [
    "from sklearn.mixture import GaussianMixture\n",
    "\n",
    "#predictions from gmm\n",
    "#predictions from gmm\n",
    "\n",
    "gmm = GaussianMixture(n_components=3)\n",
    "gmm.fit(frame)\n",
    "\n",
    "labels = gmm.predict(frame)\n",
    "frame_g1 = pd.DataFrame(frame)\n",
    "frame_g1['cluster'] = labels\n",
    "frame_g1.columns = ['Weight', 'Height', 'cluster']\n",
    "\n",
    "color=['blue','green','cyan', 'black']\n",
    "for k in range(0,4):\n",
    "    frame = frame_g1[frame_g1[\"cluster\"]==k]\n",
    "    plt.scatter(frame[\"Weight\"],frame[\"Height\"],c=color[k])\n",
    "plt.show()"
   ]
  },
  {
   "cell_type": "code",
   "execution_count": 13,
   "id": "2774be7a",
   "metadata": {},
   "outputs": [
    {
     "data": {
      "text/plain": [
       "True"
      ]
     },
     "execution_count": 13,
     "metadata": {},
     "output_type": "execute_result"
    }
   ],
   "source": [
    "gmm.converged_"
   ]
  },
  {
   "cell_type": "code",
   "execution_count": 14,
   "id": "f5a279f2",
   "metadata": {},
   "outputs": [
    {
     "data": {
      "text/plain": [
       "10"
      ]
     },
     "execution_count": 14,
     "metadata": {},
     "output_type": "execute_result"
    }
   ],
   "source": [
    "gmm.n_iter_"
   ]
  },
  {
   "cell_type": "code",
   "execution_count": 15,
   "id": "4bae4ac5",
   "metadata": {},
   "outputs": [
    {
     "data": {
      "text/plain": [
       "array([0.16500138, 0.538036  , 0.29696262])"
      ]
     },
     "execution_count": 15,
     "metadata": {},
     "output_type": "execute_result"
    }
   ],
   "source": [
    "gmm.weights_"
   ]
  },
  {
   "cell_type": "code",
   "execution_count": 16,
   "id": "26450eea",
   "metadata": {},
   "outputs": [
    {
     "data": {
      "text/plain": [
       "array([[ 2.05332566, 13.03434107],\n",
       "       [ 0.78279018,  8.93694096],\n",
       "       [ 2.8749897 ,  9.46706344]])"
      ]
     },
     "execution_count": 16,
     "metadata": {},
     "output_type": "execute_result"
    }
   ],
   "source": [
    "gmm.means_"
   ]
  },
  {
   "cell_type": "code",
   "execution_count": 17,
   "id": "41d67b17",
   "metadata": {},
   "outputs": [
    {
     "data": {
      "text/plain": [
       "array([[[ 1.43736245, -0.14228035],\n",
       "        [-0.14228035,  4.23736281]],\n",
       "\n",
       "       [[ 0.27803386, -0.04465658],\n",
       "        [-0.04465658,  5.04823588]],\n",
       "\n",
       "       [[ 2.4561684 ,  0.36100068],\n",
       "        [ 0.36100068,  1.58193443]]])"
      ]
     },
     "execution_count": 17,
     "metadata": {},
     "output_type": "execute_result"
    }
   ],
   "source": [
    "gmm.covariances_"
   ]
  },
  {
   "cell_type": "code",
   "execution_count": 19,
   "id": "1cd563a7",
   "metadata": {},
   "outputs": [],
   "source": [
    "df_fast = pd.read_csv(\"C:/Users/aparajitas/Downloads/dataset2fast.csv\")\n",
    "df_fast2 = df_fast.drop(['date','t','X','Y','username','activity'], axis = 1)\n",
    "df_fast2.head()\n",
    "df_fast2.describe\n",
    "df_fast3=df_fast2.head()"
   ]
  },
  {
   "cell_type": "code",
   "execution_count": 20,
   "id": "37edaab1",
   "metadata": {},
   "outputs": [
    {
     "data": {
      "text/plain": [
       "array([0, 1, 2, 1, 0], dtype=int64)"
      ]
     },
     "execution_count": 20,
     "metadata": {},
     "output_type": "execute_result"
    }
   ],
   "source": [
    "gmm.predict(df_fast3)"
   ]
  },
  {
   "cell_type": "code",
   "execution_count": 21,
   "id": "459d8bc3",
   "metadata": {},
   "outputs": [],
   "source": [
    "df_run = pd.read_csv(\"C:/Users/aparajitas/Downloads/dataset2run.csv\")"
   ]
  },
  {
   "cell_type": "code",
   "execution_count": 22,
   "id": "e0f75be6",
   "metadata": {},
   "outputs": [],
   "source": [
    "df_run2 = df_run.drop(['date','t','X','Y','username','activity'], axis = 1)"
   ]
  },
  {
   "cell_type": "code",
   "execution_count": 23,
   "id": "250c23d3",
   "metadata": {},
   "outputs": [
    {
     "data": {
      "text/plain": [
       "<bound method NDFrame.describe of           Z    vector\n",
       "0    4.0475  4.074634\n",
       "1    4.4313  4.610782\n",
       "2    4.0215  4.277629\n",
       "3    4.2238  4.257374\n",
       "4    4.2949  4.372995\n",
       "..      ...       ...\n",
       "196  4.3748  4.628126\n",
       "197  4.3217  4.616702\n",
       "198  4.0802  4.637597\n",
       "199  4.1400  4.782581\n",
       "200  4.2401  4.917740\n",
       "\n",
       "[201 rows x 2 columns]>"
      ]
     },
     "execution_count": 23,
     "metadata": {},
     "output_type": "execute_result"
    }
   ],
   "source": [
    "df_run2.head()\n",
    "df_run2.describe"
   ]
  },
  {
   "cell_type": "code",
   "execution_count": 24,
   "id": "63016488",
   "metadata": {},
   "outputs": [],
   "source": [
    "df_run3=df_run2.head()"
   ]
  },
  {
   "cell_type": "code",
   "execution_count": 25,
   "id": "58d4f677",
   "metadata": {},
   "outputs": [
    {
     "data": {
      "text/plain": [
       "array([2, 2, 2, 2, 2], dtype=int64)"
      ]
     },
     "execution_count": 25,
     "metadata": {},
     "output_type": "execute_result"
    }
   ],
   "source": [
    "gmm.predict(df_run3)"
   ]
  },
  {
   "cell_type": "code",
   "execution_count": 26,
   "id": "cee259cb",
   "metadata": {},
   "outputs": [],
   "source": [
    "df_sloww = pd.read_csv(\"C:/Users/aparajitas/Downloads/dataset2slow.csv\")"
   ]
  },
  {
   "cell_type": "code",
   "execution_count": 27,
   "id": "cddfca84",
   "metadata": {},
   "outputs": [],
   "source": [
    "df_sloww2 = df_sloww.drop(['date','t','X','Y','username','activity'], axis = 1)"
   ]
  },
  {
   "cell_type": "code",
   "execution_count": 28,
   "id": "4095c4d3",
   "metadata": {},
   "outputs": [
    {
     "data": {
      "text/plain": [
       "<bound method NDFrame.describe of             Z    vector\n",
       "0      0.2650  0.825148\n",
       "1      0.6722  1.329887\n",
       "2      0.4399  1.547307\n",
       "3      0.3031  0.871729\n",
       "4      0.4814  1.048889\n",
       "...       ...       ...\n",
       "35430  0.3084  0.902382\n",
       "35431  0.4977  1.202684\n",
       "35432  0.4587  1.295380\n",
       "35433  0.2590  0.899638\n",
       "35434  0.3140  0.864972\n",
       "\n",
       "[35435 rows x 2 columns]>"
      ]
     },
     "execution_count": 28,
     "metadata": {},
     "output_type": "execute_result"
    }
   ],
   "source": [
    "df_sloww2.head()\n",
    "df_sloww2.describe"
   ]
  },
  {
   "cell_type": "code",
   "execution_count": 29,
   "id": "3f8ed713",
   "metadata": {},
   "outputs": [],
   "source": [
    "df_sloww3=df_sloww2.head()"
   ]
  },
  {
   "cell_type": "code",
   "execution_count": 30,
   "id": "d6b60c3a",
   "metadata": {},
   "outputs": [
    {
     "data": {
      "text/plain": [
       "array([1, 1, 1, 1, 1], dtype=int64)"
      ]
     },
     "execution_count": 30,
     "metadata": {},
     "output_type": "execute_result"
    }
   ],
   "source": [
    "gmm.predict(df_sloww3)"
   ]
  },
  {
   "cell_type": "code",
   "execution_count": null,
   "id": "aaf631ce",
   "metadata": {},
   "outputs": [],
   "source": []
  }
 ],
 "metadata": {
  "kernelspec": {
   "display_name": "Python 3 (ipykernel)",
   "language": "python",
   "name": "python3"
  },
  "language_info": {
   "codemirror_mode": {
    "name": "ipython",
    "version": 3
   },
   "file_extension": ".py",
   "mimetype": "text/x-python",
   "name": "python",
   "nbconvert_exporter": "python",
   "pygments_lexer": "ipython3",
   "version": "3.9.7"
  }
 },
 "nbformat": 4,
 "nbformat_minor": 5
}
